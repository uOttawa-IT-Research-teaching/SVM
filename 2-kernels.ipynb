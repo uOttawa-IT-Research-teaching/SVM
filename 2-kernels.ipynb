{
 "cells": [
  {
   "cell_type": "markdown",
   "metadata": {},
   "source": [
    "# Support Vector Machine (SVM) - Kernels\n",
    "**Notebook 2 of 4**\n",
    "\n",
    "In this tutorial we'll introduce kernels. A `kernel` is just a function that maps the data to a higher dimension where data is separable. A kernel transforms a low-dimensional input data space into a higher dimensional space. So, it converts non-linear separable problems to linear separable problems by adding more dimensions to it. Thus, the kernel trick helps us to build a more accurate classifier. Hence, it is useful in non-linear separation problems.\n",
    "\n",
    "In the context of SVMs, there are 4 popular kernels – `Linear kernel`, `Polynomial kernel` and `Radial Basis Function (RBF) kernel` (also called Gaussian kernel) and `Sigmoid kernel`.  \n",
    "\n",
    "SVMs are powerful supervised machine learning algorithms that excel at classification and regression tasks. In this workshop, we'll dive into data points are so dispersed that it is not possible to separate them using a linear hyperplane.\n",
    "\n",
    "In this project, a Support Vector Machine classifier to classifies a Pulsar star. I have used the **Predicting a Pulsar Star** dataset for this project. But where do we get our data? The University of California Irvine's Open Data website has a small data sets suitable to get our training data and test data. We have already downloaded the dataset and you can find it in the tutorial repository.  It is also available [Here](https://archive.ics.uci.edu/dataset/372/htru2)\n",
    "This dataset is useful for SVM kernels for the following reasons:\n",
    "#### The problem with dispersed or unbalanced datasets\n",
    "Sometimes, the sample data points are so dispersed that it is not possible to separate them using a linear hyperplane. \n",
    "\n",
    "Comment: Please explain what is a linear hyperplane or mention it will be explian under the terminology seciton in this training. \n",
    "\n",
    "In such a situation, SVMs uses a `kernel trick` to transform the input space to a higher dimensional space as shown in the diagram below. It uses a mapping function to transform the 2-D input space into the 3-D input space. Now, we can easily segregate the data points using linear separation.\n",
    "\n",
    "Comment: what are we seeing below in 1, 2, ..., 6? please explain. \n",
    "\n",
    "1. **Binary Classification Task**: Imagine you have a bunch of objects, like stars, and you want to sort them into two groups: pulsars (special stars that emit pulses of radiation) and non-pulsars (regular stars that don't emit pulses). So, the goal is to tell if a star is a pulsar or not.\n",
    " \n",
    "2. **Non-linear Decision Boundaries**: Think of drawing a line or a curve to separate the pulsars from the non-pulsars on a graph. Sometimes, you need a wavy or curvy line instead of a straight one. SVMs are good at figuring out these wavy lines, which helps in separating different kinds of stars accurately.\n",
    " \n",
    "3. **Feature Space Transformation**: Think of features as characteristics of stars, like their brightness or size. SVMs can change the way they look at these characteristics to make it easier to tell the difference between pulsars and non-pulsars.\n",
    " \n",
    "4. **Robustness to Overfitting**: Sometimes, we don't want the computer to memorize all the examples we show it because it might not work well on new stars it hasn't seen before. SVMs are good at finding a balance between learning from examples and not memorizing them too much.\n",
    " \n",
    "5. **Interpretability and Simplicity**: SVMs make their decisions based on only a few examples, which makes it easier for us to understand why they classify stars the way they do. This is helpful when we want to explain why a star is classified as a pulsar or not.\n",
    " \n",
    "6. **Availability of Libraries**: There are computer tools available that make it easy for people to use SVMs to study stars without needing to know all the complicated math behind it. These tools help scientists and students work with pulsar data more easily.\n",
    " \n",
    "In simple terms, using SVMs to study pulsar data helps scientists figure out which stars are pulsars and which ones are not by drawing clever lines or curves between them on a graph, while still keeping things simple and easy to understand.\n",
    "\n",
    "Following is a quick description of the information contained in the dataset: <br>\n",
    "As pulsars rotate, their emission beam sweeps across the sky, and when this crosses our line of sight, produces a detectable pattern of broadband radio emission. As pulsars rotate rapidly, this pattern repeats periodically. Thus pulsar search involves looking for periodic radio signals with large radio telescopes.\n",
    "\n",
    "Each pulsar produces a slightly different emission pattern, which varies slightly with each rotation. Thus a potential signal detection known as a ‘candidate’, is averaged over many rotations of the pulsar, as determined by the length of an observation. In the absence of additional info, each candidate could potentially describe a real pulsar. However in practice almost all detections are caused by radio frequency interference (RFI) and noise, making legitimate signals hard to find."
   ]
  },
  {
   "cell_type": "markdown",
   "metadata": {},
   "source": [
    "## Learning Objectives\n",
    "\n",
    "Average time to complete: 30min\n",
    "\n",
    "By the end of this tutorial you should be able to:\n",
    "\n",
    "- Understand the basic concept of Support Vector Machines (SVMs) and their role in supervised learning.\n",
    "- Learn about the significance of kernels in SVMs and how they enable handling non-linear data.\n",
    "- Explore common types of kernels like linear, polynomial, and radial basis function (RBF).\n",
    "- Gain practical experience in implementing SVM kernels using a programming language like Python with scikit-learn.\n",
    "- Understand the concept of kernel selection and tuning for optimal SVM performance.\n",
    "- Learn about model evaluation techniques, such as cross-validation, for assessing SVM kernel performance"
   ]
  },
  {
   "cell_type": "markdown",
   "metadata": {},
   "source": [
    "## What you will need for this tutorial\n",
    "\n",
    "* See the [introduction document](https://uottawa-it-research-teaching.github.io/machinelearning/) for general requirements and how Jupyter notebooks work.\n",
    "* We'll need Pandas for convenient data handling. It's a very powerful Python package that can read CSV and Excel files. It also has very good data manipulation capabilities which come in use for data cleaning.\n",
    "* We will use scikit learn as our machine learning package.\n",
    "* numpy \n",
    "* seaborn \n",
    "* matplotlib\n",
    "* requests\n",
    "* ipywidgets\n",
    "* The data files that should have come with this notebook."
   ]
  },
  {
   "cell_type": "markdown",
   "metadata": {},
   "source": [
    "## RDM best practices\n",
    "\n",
    "Good data handling for machine learning begins with good Research Data Managment (RDM). The quality of your source data will impact the outcome of your results, just like the reproducibility of your results will depend on the quality of your data sources, in addition to how you organize the data so that other people (and machines!) can understand and reuse it. \n",
    "\n",
    "We also need to respect a few research data management best practices along the way, these best practices are recommended by the [Digital Research Alliance of Canada](https://zenodo.org/records/4000989).\n",
    "\n",
    "SAVE YOUR RAW DATA IN ORIGINAL FORMAT\n",
    "* Don't overwrite your original data with a cleaned version.\n",
    "* Protect your original data by locking them or making them read-only.\n",
    "* Refer to this original data if things go wrong (as they often do).\n",
    "\n",
    "BACKUP YOUR DATA\n",
    "* Use the 3-2-1 rule: Save three copies of your data, on two different storage mediums, and one copy off site. The off site storage can be OneDrive or Google drive or whatever your institution provides.\n",
    "* We are using Open Data, so it does not contain any personally identifiable data or data that needs to be restricted or protected in any way. However, if your data contains confidential information, it is important to take steps to restrict access and encrypt your data.\n",
    "\n",
    "There are a few more RDM best practices that will help you in your project management, and we will highlight them at the beginning of each tutorial."
   ]
  },
  {
   "cell_type": "markdown",
   "metadata": {},
   "source": [
    "### 1. Review of SVM terminology. \n",
    "Before getting started, let's do a cursory review of the concepts covered so far.\n",
    "\n",
    "#### Hyperplane\n",
    "\n",
    "A hyperplane is a decision boundary which separates between given set of data points having different class labels. The SVM classifier separates data points using a hyperplane with the maximum amount of margin. This hyperplane is known as the `maximum margin hyperplane` and the linear classifier it defines is known as the `maximum margin classifier`.\n",
    "\n",
    "\n",
    "#### Support Vectors\n",
    "\n",
    "Support vectors are the sample data points, which are closest to the hyperplane.  These data points will define the separating line or hyperplane better by calculating margins.\n",
    "\n",
    "#### Margin\n",
    "\n",
    "A margin is a perpendicular separation gap between the two lines on the closest data points. It is calculated as the perpendicular distance from the line to support vectors or closest data points. In SVMs, we try to maximize this separation gap so that we get maximum margin.\n",
    "<img src=\"Margin.png\" style=\"float: left;\" alt=\"\" height=\"400\" width=\"400\"/><br><br>\n",
    "    - Best optimized line(hyperplane) with maximum margin is termed as Margin Maximal Hyperplane (shown as solid line)<br>\n",
    "    - Closest points where the margin distance is calculated are considered as the support vectors (shown as dotted lines)<br>\n",
    "    - The 2 arrows denote the hyperplane. In this case it is maximized because it is between the closest data points.\n",
    "<br><br>\n",
    "#### Regularization\n",
    "- Known as the 'C' parameter in Python SkLearn Library\n",
    "- Optimises SVM classifier to avoid misclassifying the data\n",
    "- C large -> Margin of hyperplane small\n",
    "- C small -> Margin of hyperplane large\n",
    "- Misclassification are possible:\n",
    "    - A large C can lead to overfitting\n",
    "    - A small C can lead to underfitting"
   ]
  },
  {
   "cell_type": "markdown",
   "metadata": {},
   "source": [
    "## 2. Introduction to Kernel trick\n",
    "\n",
    "\n",
    "In practice, SVM algorithm is implemented using a `kernel`. It uses a technique called the `kernel trick`. In simple words, a `kernel` is just a function that maps the data to a higher dimension where data is separable. A kernel transforms a low-dimensional input data space into a higher dimensional space. So, it converts non-linear separable problems to linear separable problems by adding more dimensions to it. Thus, the kernel trick helps us to build a more accurate classifier. Hence, it is useful in non-linear separation problems.\n",
    "\n",
    "In the context of SVMs, there are 4 popular kernels – `Linear kernel`, `Polynomial kernel` and `Radial Basis Function (RBF) kernel` (also called Gaussian kernel) and `Sigmoid kernel`. "
   ]
  },
  {
   "cell_type": "code",
   "execution_count": 2,
   "metadata": {},
   "outputs": [],
   "source": [
    "import pandas as pd\n",
    "import numpy as np\n",
    "import matplotlib.pyplot as plt\n",
    "import seaborn as sns\n",
    "%matplotlib inline"
   ]
  },
  {
   "cell_type": "code",
   "execution_count": 3,
   "metadata": {},
   "outputs": [],
   "source": [
    "import warnings\n",
    "\n",
    "warnings.filterwarnings('ignore')"
   ]
  },
  {
   "cell_type": "markdown",
   "metadata": {},
   "source": [
    "## Cleaning your data\n",
    "\n",
    "We will use Pandas library for our data cleaning since it has veryful power filtering and manipulation tools to get our data formatted to allow for easy analysis. When you use data from other sources the data cleaning process can be time consuming, but it is an important step to ensure that your results are accurate. "
   ]
  },
  {
   "cell_type": "markdown",
   "metadata": {},
   "source": [
    "#### pulsar star data\n",
    "\n",
    "The very first step in data cleaning, is reading the data! Make sure you have \"pulsar_stars.csv\" that should have come with this notebook. If you don't have it, you can download it from the link in the comment below."
   ]
  },
  {
   "cell_type": "markdown",
   "metadata": {},
   "source": [
    "## 3.Import dataset"
   ]
  },
  {
   "cell_type": "code",
   "execution_count": 4,
   "metadata": {},
   "outputs": [],
   "source": [
    "data = './pulsar_stars.csv'\n",
    "\n",
    "df = pd.read_csv(data)"
   ]
  },
  {
   "cell_type": "markdown",
   "metadata": {},
   "source": [
    "## 4. Let's explore the data.  Exploratory data analysis\n",
    "\n",
    "\n",
    "Now, we will explore the data to gain insights about the data. "
   ]
  },
  {
   "cell_type": "code",
   "execution_count": 5,
   "metadata": {},
   "outputs": [],
   "source": [
    "# view dimensions of dataset\n",
    "\n",
    "#df.shape"
   ]
  },
  {
   "cell_type": "markdown",
   "metadata": {},
   "source": [
    "The data has now been read by Pandas and stored in the variable dataset so we can now use it in our notebook.\n",
    "Let's see that we have in our dataset."
   ]
  },
  {
   "cell_type": "code",
   "execution_count": 6,
   "metadata": {},
   "outputs": [
    {
     "name": "stdout",
     "output_type": "stream",
     "text": [
      "<class 'pandas.core.frame.DataFrame'>\n",
      "RangeIndex: 17898 entries, 0 to 17897\n",
      "Data columns (total 9 columns):\n",
      " #   Column                                         Non-Null Count  Dtype  \n",
      "---  ------                                         --------------  -----  \n",
      " 0    Mean of the integrated profile                17898 non-null  float64\n",
      " 1    Standard deviation of the integrated profile  17898 non-null  float64\n",
      " 2    Excess kurtosis of the integrated profile     17898 non-null  float64\n",
      " 3    Skewness of the integrated profile            17898 non-null  float64\n",
      " 4    Mean of the DM-SNR curve                      17898 non-null  float64\n",
      " 5    Standard deviation of the DM-SNR curve        17898 non-null  float64\n",
      " 6    Excess kurtosis of the DM-SNR curve           17898 non-null  float64\n",
      " 7    Skewness of the DM-SNR curve                  17898 non-null  float64\n",
      " 8   target_class                                   17898 non-null  int64  \n",
      "dtypes: float64(8), int64(1)\n",
      "memory usage: 1.2 MB\n"
     ]
    }
   ],
   "source": [
    "df.info()"
   ]
  },
  {
   "cell_type": "markdown",
   "metadata": {},
   "source": [
    "The column names are easily understandable and follow good RDM best practices. This clear documentation of the variables as they correspond to the data collection process helps us to reuse this data!\n",
    "\n",
    "The summary explains that these columns represent measurements of signals from outer space data.\n",
    "\n",
    "*Non-null* values are the number of flowers that were measured and classified by their species.<br>\n",
    "\n",
    "*float64* values indicate double precision 64-bit decimal point number meaning they can take very large or small numbers.<br>\n",
    "\n",
    "*int64* values indicate single precision 32-bit integer number<br>\n",
    "\n",
    "Notice that we have 17,898 entries, and if we look at the measurements, we see we have 17,898 non-null values. *This indicates no missing data!* We also notice that the datatypes for the measurements are all numerical.  This is important since performing math functions can only work with numerical data. \n",
    "\n",
    "Note that missing data is fairly typical for raw datasets.\n",
    "\n",
    "Fortunately, we don't have to deal with missing data here.  Visualization is a powerful tool to check the data because it lets you see at a glance if anything weird might be going on.\n",
    "\n",
    "This requires some level of understanding of the data you are working with. For complicated datasets, visualizations can be quite difficult and would require some domain expertise, but it pays off to visualize because of the insights that it can bring.\n",
    "\n",
    "In this case, we are measuring in a very spacialized area of study, so this is an example where the results would have to be analyzed and interpreted by the Subject Matter Expert (SME)! Since we are not using this data for research here, we can go with our curiosity. Let's plot some of the data.\n"
   ]
  },
  {
   "cell_type": "code",
   "execution_count": 7,
   "metadata": {},
   "outputs": [
    {
     "data": {
      "text/html": [
       "<div>\n",
       "<style scoped>\n",
       "    .dataframe tbody tr th:only-of-type {\n",
       "        vertical-align: middle;\n",
       "    }\n",
       "\n",
       "    .dataframe tbody tr th {\n",
       "        vertical-align: top;\n",
       "    }\n",
       "\n",
       "    .dataframe thead th {\n",
       "        text-align: right;\n",
       "    }\n",
       "</style>\n",
       "<table border=\"1\" class=\"dataframe\">\n",
       "  <thead>\n",
       "    <tr style=\"text-align: right;\">\n",
       "      <th></th>\n",
       "      <th>Mean of the integrated profile</th>\n",
       "      <th>Standard deviation of the integrated profile</th>\n",
       "      <th>Excess kurtosis of the integrated profile</th>\n",
       "      <th>Skewness of the integrated profile</th>\n",
       "      <th>Mean of the DM-SNR curve</th>\n",
       "      <th>Standard deviation of the DM-SNR curve</th>\n",
       "      <th>Excess kurtosis of the DM-SNR curve</th>\n",
       "      <th>Skewness of the DM-SNR curve</th>\n",
       "      <th>target_class</th>\n",
       "    </tr>\n",
       "  </thead>\n",
       "  <tbody>\n",
       "    <tr>\n",
       "      <th>count</th>\n",
       "      <td>17898.00</td>\n",
       "      <td>17898.00</td>\n",
       "      <td>17898.00</td>\n",
       "      <td>17898.00</td>\n",
       "      <td>17898.00</td>\n",
       "      <td>17898.00</td>\n",
       "      <td>17898.00</td>\n",
       "      <td>17898.00</td>\n",
       "      <td>17898.00</td>\n",
       "    </tr>\n",
       "    <tr>\n",
       "      <th>mean</th>\n",
       "      <td>111.08</td>\n",
       "      <td>46.55</td>\n",
       "      <td>0.48</td>\n",
       "      <td>1.77</td>\n",
       "      <td>12.61</td>\n",
       "      <td>26.33</td>\n",
       "      <td>8.30</td>\n",
       "      <td>104.86</td>\n",
       "      <td>0.09</td>\n",
       "    </tr>\n",
       "    <tr>\n",
       "      <th>std</th>\n",
       "      <td>25.65</td>\n",
       "      <td>6.84</td>\n",
       "      <td>1.06</td>\n",
       "      <td>6.17</td>\n",
       "      <td>29.47</td>\n",
       "      <td>19.47</td>\n",
       "      <td>4.51</td>\n",
       "      <td>106.51</td>\n",
       "      <td>0.29</td>\n",
       "    </tr>\n",
       "    <tr>\n",
       "      <th>min</th>\n",
       "      <td>5.81</td>\n",
       "      <td>24.77</td>\n",
       "      <td>-1.88</td>\n",
       "      <td>-1.79</td>\n",
       "      <td>0.21</td>\n",
       "      <td>7.37</td>\n",
       "      <td>-3.14</td>\n",
       "      <td>-1.98</td>\n",
       "      <td>0.00</td>\n",
       "    </tr>\n",
       "    <tr>\n",
       "      <th>25%</th>\n",
       "      <td>100.93</td>\n",
       "      <td>42.38</td>\n",
       "      <td>0.03</td>\n",
       "      <td>-0.19</td>\n",
       "      <td>1.92</td>\n",
       "      <td>14.44</td>\n",
       "      <td>5.78</td>\n",
       "      <td>34.96</td>\n",
       "      <td>0.00</td>\n",
       "    </tr>\n",
       "    <tr>\n",
       "      <th>50%</th>\n",
       "      <td>115.08</td>\n",
       "      <td>46.95</td>\n",
       "      <td>0.22</td>\n",
       "      <td>0.20</td>\n",
       "      <td>2.80</td>\n",
       "      <td>18.46</td>\n",
       "      <td>8.43</td>\n",
       "      <td>83.06</td>\n",
       "      <td>0.00</td>\n",
       "    </tr>\n",
       "    <tr>\n",
       "      <th>75%</th>\n",
       "      <td>127.09</td>\n",
       "      <td>51.02</td>\n",
       "      <td>0.47</td>\n",
       "      <td>0.93</td>\n",
       "      <td>5.46</td>\n",
       "      <td>28.43</td>\n",
       "      <td>10.70</td>\n",
       "      <td>139.31</td>\n",
       "      <td>0.00</td>\n",
       "    </tr>\n",
       "    <tr>\n",
       "      <th>max</th>\n",
       "      <td>192.62</td>\n",
       "      <td>98.78</td>\n",
       "      <td>8.07</td>\n",
       "      <td>68.10</td>\n",
       "      <td>223.39</td>\n",
       "      <td>110.64</td>\n",
       "      <td>34.54</td>\n",
       "      <td>1191.00</td>\n",
       "      <td>1.00</td>\n",
       "    </tr>\n",
       "  </tbody>\n",
       "</table>\n",
       "</div>"
      ],
      "text/plain": [
       "        Mean of the integrated profile  \\\n",
       "count                         17898.00   \n",
       "mean                            111.08   \n",
       "std                              25.65   \n",
       "min                               5.81   \n",
       "25%                             100.93   \n",
       "50%                             115.08   \n",
       "75%                             127.09   \n",
       "max                             192.62   \n",
       "\n",
       "        Standard deviation of the integrated profile  \\\n",
       "count                                       17898.00   \n",
       "mean                                           46.55   \n",
       "std                                             6.84   \n",
       "min                                            24.77   \n",
       "25%                                            42.38   \n",
       "50%                                            46.95   \n",
       "75%                                            51.02   \n",
       "max                                            98.78   \n",
       "\n",
       "        Excess kurtosis of the integrated profile  \\\n",
       "count                                    17898.00   \n",
       "mean                                         0.48   \n",
       "std                                          1.06   \n",
       "min                                         -1.88   \n",
       "25%                                          0.03   \n",
       "50%                                          0.22   \n",
       "75%                                          0.47   \n",
       "max                                          8.07   \n",
       "\n",
       "        Skewness of the integrated profile   Mean of the DM-SNR curve  \\\n",
       "count                             17898.00                   17898.00   \n",
       "mean                                  1.77                      12.61   \n",
       "std                                   6.17                      29.47   \n",
       "min                                  -1.79                       0.21   \n",
       "25%                                  -0.19                       1.92   \n",
       "50%                                   0.20                       2.80   \n",
       "75%                                   0.93                       5.46   \n",
       "max                                  68.10                     223.39   \n",
       "\n",
       "        Standard deviation of the DM-SNR curve  \\\n",
       "count                                 17898.00   \n",
       "mean                                     26.33   \n",
       "std                                      19.47   \n",
       "min                                       7.37   \n",
       "25%                                      14.44   \n",
       "50%                                      18.46   \n",
       "75%                                      28.43   \n",
       "max                                     110.64   \n",
       "\n",
       "        Excess kurtosis of the DM-SNR curve   Skewness of the DM-SNR curve  \\\n",
       "count                              17898.00                       17898.00   \n",
       "mean                                   8.30                         104.86   \n",
       "std                                    4.51                         106.51   \n",
       "min                                   -3.14                          -1.98   \n",
       "25%                                    5.78                          34.96   \n",
       "50%                                    8.43                          83.06   \n",
       "75%                                   10.70                         139.31   \n",
       "max                                   34.54                        1191.00   \n",
       "\n",
       "       target_class  \n",
       "count      17898.00  \n",
       "mean           0.09  \n",
       "std            0.29  \n",
       "min            0.00  \n",
       "25%            0.00  \n",
       "50%            0.00  \n",
       "75%            0.00  \n",
       "max            1.00  "
      ]
     },
     "execution_count": 7,
     "metadata": {},
     "output_type": "execute_result"
    }
   ],
   "source": [
    "round(df.describe(),2)"
   ]
  },
  {
   "cell_type": "markdown",
   "metadata": {},
   "source": [
    "We can see that there are 9 variables (features) and 17,898 samples in the dataset. 8 are continuous variables and 1 is discrete variable (0 or 1). The discrete variable is `target_class` variable. `target_class` is also the target variable (Pulsar star Y/N - 1 or 0). Note that on close inspection, we can suspect that all the continuous variables may contain outliers.  This comes from comparing the distances between the minimum and maximum values with the 25%, 50% and 75% percentiles.  We will check this further once the dataset is clean.\n",
    "\n",
    "Now, let's view the column names to check for leading and trailing spaces."
   ]
  },
  {
   "cell_type": "code",
   "execution_count": 8,
   "metadata": {},
   "outputs": [
    {
     "data": {
      "text/plain": [
       "Index([' Mean of the integrated profile',\n",
       "       ' Standard deviation of the integrated profile',\n",
       "       ' Excess kurtosis of the integrated profile',\n",
       "       ' Skewness of the integrated profile', ' Mean of the DM-SNR curve',\n",
       "       ' Standard deviation of the DM-SNR curve',\n",
       "       ' Excess kurtosis of the DM-SNR curve', ' Skewness of the DM-SNR curve',\n",
       "       'target_class'],\n",
       "      dtype='object')"
      ]
     },
     "execution_count": 8,
     "metadata": {},
     "output_type": "execute_result"
    }
   ],
   "source": [
    "# view the column names of the dataframe\n",
    "col_names = df.columns\n",
    "col_names"
   ]
  },
  {
   "cell_type": "markdown",
   "metadata": {},
   "source": [
    "We can see that there are leading spaces (spaces at the start of the string name) in the dataframe. So, we will remove these leading spaces."
   ]
  },
  {
   "cell_type": "code",
   "execution_count": 9,
   "metadata": {},
   "outputs": [],
   "source": [
    "# remove leading spaces from column names\n",
    "\n",
    "df.columns = df.columns.str.strip()"
   ]
  },
  {
   "cell_type": "markdown",
   "metadata": {},
   "source": [
    "Removed the leading spaces from the column names. Let's again view the column names to confirm the same."
   ]
  },
  {
   "cell_type": "code",
   "execution_count": 10,
   "metadata": {},
   "outputs": [
    {
     "data": {
      "text/plain": [
       "Index(['Mean of the integrated profile',\n",
       "       'Standard deviation of the integrated profile',\n",
       "       'Excess kurtosis of the integrated profile',\n",
       "       'Skewness of the integrated profile', 'Mean of the DM-SNR curve',\n",
       "       'Standard deviation of the DM-SNR curve',\n",
       "       'Excess kurtosis of the DM-SNR curve', 'Skewness of the DM-SNR curve',\n",
       "       'target_class'],\n",
       "      dtype='object')"
      ]
     },
     "execution_count": 10,
     "metadata": {},
     "output_type": "execute_result"
    }
   ],
   "source": [
    "# view column names again\n",
    "\n",
    "df.columns"
   ]
  },
  {
   "cell_type": "markdown",
   "metadata": {},
   "source": [
    "We can see that the leading spaces are removed from the column name. Although the naming follows good RDM practices, the name very long for coding. So, we will shorten them while attempting to keep the intuitive meaning."
   ]
  },
  {
   "cell_type": "code",
   "execution_count": 11,
   "metadata": {},
   "outputs": [],
   "source": [
    "# rename column names\n",
    "\n",
    "df.columns = ['IP Mean', 'IP Sd', 'IP Kurtosis', 'IP Skewness', \n",
    "              'DM-SNR Mean', 'DM-SNR Sd', 'DM-SNR Kurtosis', 'DM-SNR Skewness', 'Is_pulsar']"
   ]
  },
  {
   "cell_type": "code",
   "execution_count": 12,
   "metadata": {},
   "outputs": [
    {
     "data": {
      "text/plain": [
       "Index(['IP Mean', 'IP Sd', 'IP Kurtosis', 'IP Skewness', 'DM-SNR Mean',\n",
       "       'DM-SNR Sd', 'DM-SNR Kurtosis', 'DM-SNR Skewness', 'Is_pulsar'],\n",
       "      dtype='object')"
      ]
     },
     "execution_count": 12,
     "metadata": {},
     "output_type": "execute_result"
    }
   ],
   "source": [
    "# view the renamed column names\n",
    "\n",
    "df.columns"
   ]
  },
  {
   "cell_type": "markdown",
   "metadata": {},
   "source": [
    "We can see that the column names are shortened. IP stands for `integrated profile` and DM-SNR stands for `delta modulation and signal to noise ratio`. Now, it is much easier to work with the columns."
   ]
  },
  {
   "cell_type": "markdown",
   "metadata": {},
   "source": [
    "Our target variable is the `target_class` column. So, I will check its distribution."
   ]
  },
  {
   "cell_type": "code",
   "execution_count": 13,
   "metadata": {},
   "outputs": [],
   "source": [
    "# check distribution of target_class column\n",
    "\n",
    "#df['target_class'].value_counts()"
   ]
  },
  {
   "cell_type": "code",
   "execution_count": 14,
   "metadata": {},
   "outputs": [
    {
     "data": {
      "text/plain": [
       "0    0.908426\n",
       "1    0.091574\n",
       "Name: Is_pulsar, dtype: float64"
      ]
     },
     "execution_count": 14,
     "metadata": {},
     "output_type": "execute_result"
    }
   ],
   "source": [
    "# view the percentage distribution of target_class column\n",
    "\n",
    "#df['target_class'].value_counts()/np.float(len(df))\n",
    "df['Is_pulsar'].value_counts()/float(len(df))"
   ]
  },
  {
   "cell_type": "markdown",
   "metadata": {},
   "source": [
    "We can see that percentage of observations of the class label `0` and `1` is 90.84% and 9.16%. "
   ]
  },
  {
   "cell_type": "code",
   "execution_count": 15,
   "metadata": {},
   "outputs": [],
   "source": [
    "# view summary of dataset\n",
    "\n",
    "#df.info()"
   ]
  },
  {
   "cell_type": "markdown",
   "metadata": {},
   "source": [
    "Let's check for missing values in variables"
   ]
  },
  {
   "cell_type": "code",
   "execution_count": 16,
   "metadata": {},
   "outputs": [
    {
     "data": {
      "text/plain": [
       "IP Mean            0\n",
       "IP Sd              0\n",
       "IP Kurtosis        0\n",
       "IP Skewness        0\n",
       "DM-SNR Mean        0\n",
       "DM-SNR Sd          0\n",
       "DM-SNR Kurtosis    0\n",
       "DM-SNR Skewness    0\n",
       "Is_pulsar          0\n",
       "dtype: int64"
      ]
     },
     "execution_count": 16,
     "metadata": {},
     "output_type": "execute_result"
    }
   ],
   "source": [
    "# check for missing values in variables\n",
    "\n",
    "df.isnull().sum()"
   ]
  },
  {
   "cell_type": "markdown",
   "metadata": {},
   "source": [
    "We can see that there are no missing values in the dataset and all the variables are numerical variables."
   ]
  },
  {
   "cell_type": "markdown",
   "metadata": {},
   "source": [
    "### Summary of numerical variables\n",
    "\n",
    "- There are 9 numerical variables in the dataset.\n",
    "\n",
    "- 8 are continuous variables and 1 is discrete variable. \n",
    "\n",
    "- The discrete variable is `target_class` variable. It is also the target variable.\n",
    "\n",
    "- There are no missing values in the dataset.\n",
    "\n",
    "Our dataset is cleaned"
   ]
  },
  {
   "cell_type": "markdown",
   "metadata": {},
   "source": [
    "### Outliers in numerical variables"
   ]
  },
  {
   "cell_type": "markdown",
   "metadata": {},
   "source": [
    "Identifying outliers in a dataset is important when evaluating the kernel in Support Vector Machines (SVMs) for several reasons:\n",
    " \n",
    "1. **Impact on Decision Boundary**: Outliers can significantly influence the position and shape of the decision boundary learned by the SVM. They may pull the decision boundary towards them, affecting its generalization to unseen data. Identifying and properly handling outliers can help ensure that the decision boundary is robust and accurately represents the underlying patterns in the data.\n",
    " \n",
    "2. **Model Performance**: Outliers can distort the performance metrics of the SVM model. For example, if outliers are misclassified, they can artificially inflate error rates or reduce accuracy. By identifying and addressing outliers, one can obtain a more realistic assessment of the SVM's performance.\n",
    " \n",
    "3. **Robustness**: Outliers can make the model less robust to noise in the data. Since SVMs aim to maximize the margin between classes, outliers that lie close to the decision boundary can lead to a reduction in margin size, potentially increasing the risk of overfitting. By identifying outliers, one can mitigate the risk of overfitting and improve the model's generalization performance.\n",
    " \n",
    "4. **Computational Efficiency**: Outliers can increase the computational complexity of training the SVM model, particularly when using kernels that involve pairwise comparisons between data points. By removing or properly handling outliers, one can improve the efficiency of the training process without sacrificing model performance.\n",
    " \n",
    "5. **Interpretability**: Outliers may represent anomalies or rare instances in the data that are of particular interest for interpretation. By identifying outliers, one can better understand the characteristics of the data and potentially gain insights into unusual patterns or phenomena present in the dataset.\n",
    " \n",
    "Overall, identifying outliers in the dataset when evaluating the kernel in SVMs is crucial for ensuring model robustness, performance, computational efficiency, and interpretability. It helps in creating a more accurate and reliable SVM model that effectively captures the underlying structure of the data.\n"
   ]
  },
  {
   "cell_type": "markdown",
   "metadata": {},
   "source": [
    "Box plots are graphical representations that provide a visual summary of the distribution of a dataset. They are particularly useful for understanding the impact of outliers on a dataset in the following ways:\n",
    " \n",
    "Box plots help visualize and understand the impact of outliers on a dataset by providing a clear summary of the distribution, facilitating the identification of outliers, comparing distributions between groups, assessing skewness, and understanding the spread and dispersion of the data. They are robust visualizations that enable quick and intuitive insights into the presence and effect of outliers in a dataset.\n",
    "\n",
    "Let's draw boxplots to visualise outliers in the above variables. "
   ]
  },
  {
   "cell_type": "code",
   "execution_count": 17,
   "metadata": {},
   "outputs": [],
   "source": [
    "# view summary statistics in numerical variables\n",
    "\n",
    "#round(df.describe(),2)"
   ]
  },
  {
   "cell_type": "code",
   "execution_count": 19,
   "metadata": {},
   "outputs": [
    {
     "data": {
      "text/plain": [
       "Text(0, 0.5, 'DM-SNR Skewness')"
      ]
     },
     "execution_count": 19,
     "metadata": {},
     "output_type": "execute_result"
    },
    {
     "data": {
      "image/png": "[encoded data removed]",
      "text/plain": [
       "<Figure size 2400x2000 with 8 Axes>"
      ]
     },
     "metadata": {},
     "output_type": "display_data"
    }
   ],
   "source": [
    "# draw boxplots to visualize outliers\n",
    "\n",
    "plt.figure(figsize=(24,20))\n",
    "\n",
    "\n",
    "plt.subplot(4, 2, 1)\n",
    "fig = df.boxplot(column='IP Mean')\n",
    "fig.set_title('')\n",
    "fig.set_ylabel('IP Mean')\n",
    "\n",
    "\n",
    "plt.subplot(4, 2, 2)\n",
    "fig = df.boxplot(column='IP Sd')\n",
    "fig.set_title('')\n",
    "fig.set_ylabel('IP Sd')\n",
    "\n",
    "\n",
    "plt.subplot(4, 2, 3)\n",
    "fig = df.boxplot(column='IP Kurtosis')\n",
    "fig.set_title('')\n",
    "fig.set_ylabel('IP Kurtosis')\n",
    "\n",
    "\n",
    "plt.subplot(4, 2, 4)\n",
    "fig = df.boxplot(column='IP Skewness')\n",
    "fig.set_title('')\n",
    "fig.set_ylabel('IP Skewness')\n",
    "\n",
    "\n",
    "plt.subplot(4, 2, 5)\n",
    "fig = df.boxplot(column='DM-SNR Mean')\n",
    "fig.set_title('')\n",
    "fig.set_ylabel('DM-SNR Mean')\n",
    "\n",
    "\n",
    "plt.subplot(4, 2, 6)\n",
    "fig = df.boxplot(column='DM-SNR Sd')\n",
    "fig.set_title('')\n",
    "fig.set_ylabel('DM-SNR Sd')\n",
    "\n",
    "\n",
    "plt.subplot(4, 2, 7)\n",
    "fig = df.boxplot(column='DM-SNR Kurtosis')\n",
    "fig.set_title('')\n",
    "fig.set_ylabel('DM-SNR Kurtosis')\n",
    "\n",
    "\n",
    "plt.subplot(4, 2, 8)\n",
    "fig = df.boxplot(column='DM-SNR Skewness')\n",
    "fig.set_title('')\n",
    "fig.set_ylabel('DM-SNR Skewness')"
   ]
  },
  {
   "cell_type": "markdown",
   "metadata": {},
   "source": [
    "The above boxplots confirm that there are lot of outliers in these variables. Several distributions are skewed, the median is not in the middle of the box, and instead off to the side. You also find an imbalance in the whisker lengths, where one side is short with no outliers, and the other has a long tail with many more outliers"
   ]
  },
  {
   "cell_type": "markdown",
   "metadata": {},
   "source": [
    "### Handling outliers with SVMs\n",
    "\n",
    "\n",
    "As we saw in notebook 1, there are 2 variants of SVMs. They are `hard-margin variant of SVM` and `soft-margin variant of SVM`.\n",
    "\n",
    "\n",
    "The `hard-margin variant of SVM` does not deal with outliers. In this case, we want to find the hyperplane with maximum margin such that every training point is correctly classified with margin at least 1. This technique does not handle outliers well.\n",
    "\n",
    "\n",
    "Another version of SVM is called `soft-margin variant of SVM`. In this case, we can have a few points incorrectly classified or \n",
    "classified with a margin less than 1. But for every such point, we have to pay a penalty in the form of `C` parameter, which controls the outliers. `Low C` implies we are allowing more outliers and `high C` implies less outliers.\n",
    "\n",
    "\n",
    "The reasoning is that since the dataset contains outliers, we should expect a higher value of `C` to be beneficial when training the model."
   ]
  },
  {
   "cell_type": "markdown",
   "metadata": {},
   "source": [
    "### Check the distribution of variables\n",
    "\n",
    "\n",
    "Now, I will plot the histograms to check distributions to find out if they are normal or skewed. "
   ]
  },
  {
   "cell_type": "code",
   "execution_count": 20,
   "metadata": {},
   "outputs": [
    {
     "data": {
      "text/plain": [
       "Text(0, 0.5, 'Number of pulsar stars')"
      ]
     },
     "execution_count": 20,
     "metadata": {},
     "output_type": "execute_result"
    },
    {
     "data": {
      "image/png": "[encoded data removed]",
      "text/plain": [
       "<Figure size 1400x2000 with 4 Axes>"
      ]
     },
     "metadata": {},
     "output_type": "display_data"
    }
   ],
   "source": [
    "# plot histogram to check distribution\n",
    "\n",
    "plt.figure(figsize=(14,20))\n",
    "\n",
    "plt.subplot(4, 2, 1)\n",
    "fig = df['IP Mean'].hist(bins=20)\n",
    "fig.set_xlabel('IP Mean')\n",
    "fig.set_ylabel('Number of pulsar stars')\n",
    "\n",
    "plt.subplot(4, 2, 2)\n",
    "fig = df['IP Sd'].hist(bins=20)\n",
    "fig.set_xlabel('IP Sd')\n",
    "fig.set_ylabel('Number of pulsar stars')\n",
    "\n",
    "plt.subplot(4, 2, 3)\n",
    "fig = df['IP Kurtosis'].hist(bins=20)\n",
    "fig.set_xlabel('IP Kurtosis')\n",
    "fig.set_ylabel('Number of pulsar stars')\n",
    "\n",
    "plt.subplot(4, 2, 4)\n",
    "fig = df['IP Skewness'].hist(bins=20)\n",
    "fig.set_xlabel('IP Skewness')\n",
    "fig.set_ylabel('Number of pulsar stars')\n"
   ]
  },
  {
   "cell_type": "code",
   "execution_count": 21,
   "metadata": {},
   "outputs": [
    {
     "data": {
      "text/plain": [
       "Text(0, 0.5, 'Number of pulsar stars')"
      ]
     },
     "execution_count": 21,
     "metadata": {},
     "output_type": "execute_result"
    },
    {
     "data": {
      "image/png": "[encoded data removed]",
      "text/plain": [
       "<Figure size 1400x2000 with 4 Axes>"
      ]
     },
     "metadata": {},
     "output_type": "display_data"
    }
   ],
   "source": [
    "plt.figure(figsize=(14,20))\n",
    "\n",
    "plt.subplot(4, 2, 5)\n",
    "fig = df['DM-SNR Mean'].hist(bins=20)\n",
    "fig.set_xlabel('DM-SNR Mean')\n",
    "fig.set_ylabel('Number of pulsar stars')\n",
    "\n",
    "plt.subplot(4, 2, 6)\n",
    "fig = df['DM-SNR Sd'].hist(bins=20)\n",
    "fig.set_xlabel('DM-SNR Sd')\n",
    "fig.set_ylabel('Number of pulsar stars')\n",
    "\n",
    "plt.subplot(4, 2, 7)\n",
    "fig = df['DM-SNR Kurtosis'].hist(bins=20)\n",
    "fig.set_xlabel('DM-SNR Kurtosis')\n",
    "fig.set_ylabel('Number of pulsar stars')\n",
    "\n",
    "plt.subplot(4, 2, 8)\n",
    "fig = df['DM-SNR Skewness'].hist(bins=20)\n",
    "fig.set_xlabel('DM-SNR Skewness')\n",
    "fig.set_ylabel('Number of pulsar stars')"
   ]
  },
  {
   "cell_type": "markdown",
   "metadata": {},
   "source": [
    "As suspected from the early data exploration and box plots, we can see that all the 5 continuous variables are highly skewed while IP Mean, IP SD and DM-SNR Kurtosis are fairly well distributed."
   ]
  },
  {
   "cell_type": "markdown",
   "metadata": {},
   "source": [
    "## 5. Declare feature vector and target variable"
   ]
  },
  {
   "cell_type": "markdown",
   "metadata": {},
   "source": [
    "To use the classifier, we have to create our training data and test data variables.\n",
    "\n",
    "For the training data, we have<br>\n",
    "    - X variables (model inputs): 'IP Mean', 'IP Sd', 'IP Kurtosis', 'IP Skewness', \n",
    "              'DM-SNR Mean', 'DM-SNR Sd', 'DM-SNR Kurtosis', 'DM-SNR Skewness'<br>\n",
    "    - Y variable (model ouput): Is_pulsar - yes(1) or no (0)\n",
    "    \n",
    "For the test data, we have<br>\n",
    "    - X variables (model inputs): 'IP Mean', 'IP Sd', 'IP Kurtosis', 'IP Skewness', \n",
    "              'DM-SNR Mean', 'DM-SNR Sd', 'DM-SNR Kurtosis', 'DM-SNR Skewness'<br>\n",
    "    - Y variable (model ouput): Is_pulsar - yes(1) or no (0)\n",
    "    \n",
    "Our X variables are all the measurable signal properties.<br>\n",
    "Our Y variable is the whether it is a pulsar or not.<br>\n",
    "Let's create those by removing the relevant columns."
   ]
  },
  {
   "cell_type": "code",
   "execution_count": 22,
   "metadata": {},
   "outputs": [],
   "source": [
    "X = df.drop(['Is_pulsar'], axis=1)\n",
    "\n",
    "y = df['Is_pulsar']"
   ]
  },
  {
   "cell_type": "markdown",
   "metadata": {},
   "source": [
    "## 6. Split data into separate training and test set"
   ]
  },
  {
   "cell_type": "code",
   "execution_count": 23,
   "metadata": {},
   "outputs": [],
   "source": [
    "# split X and y into training and testing sets\n",
    "\n",
    "from sklearn.model_selection import train_test_split\n",
    "\n",
    "X_train, X_test, y_train, y_test = train_test_split(X, y, test_size = 0.2, random_state = 0)"
   ]
  },
  {
   "cell_type": "markdown",
   "metadata": {},
   "source": [
    "Following the creation of or train and test datasets, we want to do a cursory check "
   ]
  },
  {
   "cell_type": "code",
   "execution_count": 24,
   "metadata": {},
   "outputs": [
    {
     "name": "stdout",
     "output_type": "stream",
     "text": [
      "Train rows and columns (14318, 8)\n",
      "Test rows and columns (3580, 8)\n"
     ]
    }
   ],
   "source": [
    "# check the shape of X_train and X_test\n",
    "\n",
    "print(\"Train rows and columns\",X_train.shape)\n",
    "print(\"Test rows and columns\",X_test.shape)"
   ]
  },
  {
   "cell_type": "markdown",
   "metadata": {},
   "source": [
    "This is what we expect.  The sum of the train and test rows should add up to the 17898 entries we observed earlier and we have the 8 measured properties or features."
   ]
  },
  {
   "cell_type": "markdown",
   "metadata": {},
   "source": [
    "## 7. Data Scaling"
   ]
  },
  {
   "cell_type": "markdown",
   "metadata": {},
   "source": [
    "The scale of your Data matters. Machine learning models learn a mapping from input variables to an output variable. As such, the scale and distribution of the data drawn from the domain may be different for each variable.\n",
    "Input variables may have different units (e.g. feet, kilometers, and hours) that, in turn, may mean the variables have different scales.\n",
    "\n",
    "Differences in the scales across input variables may increase the difficulty of the problem being modeled. An example of this is that large input values (e.g. a spread of hundreds or thousands of units) can result in a model that learns large weight values. A model with large weight values is often unstable, meaning that it may suffer from poor performance during learning and sensitivity to input values resulting in higher generalization error.\n",
    "\n",
    "For our classifiers, we want our observations to fit a Gaussian distribution (bell curve) with a well-behaved mean and standard deviation as closely as possible. But we saw that this expectation is not met when we plotted the distributiosn of our variables above. Standardizing a dataset involves rescaling the distribution of values so that the mean of observed values is 0 and the standard deviation is 1. This can be thought of as subtracting the mean value or centering the data. Standardization can be useful, and even required in some machine learning algorithms when your data has input values with differing scales or if largely skewed. Fortunately, sklearn has a built-in function to help us do that fairly easily. "
   ]
  },
  {
   "cell_type": "code",
   "execution_count": 22,
   "metadata": {},
   "outputs": [],
   "source": [
    "cols = X_train.columns"
   ]
  },
  {
   "cell_type": "code",
   "execution_count": 23,
   "metadata": {},
   "outputs": [],
   "source": [
    "from sklearn.preprocessing import StandardScaler\n",
    "\n",
    "scaler = StandardScaler()\n",
    "\n",
    "X_train = scaler.fit_transform(X_train)\n",
    "\n",
    "X_test = scaler.transform(X_test)\n"
   ]
  },
  {
   "cell_type": "code",
   "execution_count": 24,
   "metadata": {},
   "outputs": [],
   "source": [
    "X_train = pd.DataFrame(X_train, columns=[cols])"
   ]
  },
  {
   "cell_type": "code",
   "execution_count": 25,
   "metadata": {},
   "outputs": [],
   "source": [
    "X_test = pd.DataFrame(X_test, columns=[cols])"
   ]
  },
  {
   "cell_type": "code",
   "execution_count": 26,
   "metadata": {},
   "outputs": [
    {
     "data": {
      "text/html": [
       "<div>\n",
       "<style scoped>\n",
       "    .dataframe tbody tr th:only-of-type {\n",
       "        vertical-align: middle;\n",
       "    }\n",
       "\n",
       "    .dataframe tbody tr th {\n",
       "        vertical-align: top;\n",
       "    }\n",
       "\n",
       "    .dataframe thead tr th {\n",
       "        text-align: left;\n",
       "    }\n",
       "</style>\n",
       "<table border=\"1\" class=\"dataframe\">\n",
       "  <thead>\n",
       "    <tr>\n",
       "      <th></th>\n",
       "      <th>IP Mean</th>\n",
       "      <th>IP Sd</th>\n",
       "      <th>IP Kurtosis</th>\n",
       "      <th>IP Skewness</th>\n",
       "      <th>DM-SNR Mean</th>\n",
       "      <th>DM-SNR Sd</th>\n",
       "      <th>DM-SNR Kurtosis</th>\n",
       "      <th>DM-SNR Skewness</th>\n",
       "    </tr>\n",
       "  </thead>\n",
       "  <tbody>\n",
       "    <tr>\n",
       "      <th>count</th>\n",
       "      <td>1.431800e+04</td>\n",
       "      <td>1.431800e+04</td>\n",
       "      <td>1.431800e+04</td>\n",
       "      <td>1.431800e+04</td>\n",
       "      <td>1.431800e+04</td>\n",
       "      <td>1.431800e+04</td>\n",
       "      <td>1.431800e+04</td>\n",
       "      <td>1.431800e+04</td>\n",
       "    </tr>\n",
       "    <tr>\n",
       "      <th>mean</th>\n",
       "      <td>1.908113e-16</td>\n",
       "      <td>-6.550610e-16</td>\n",
       "      <td>1.042143e-17</td>\n",
       "      <td>3.870815e-17</td>\n",
       "      <td>-8.734147e-17</td>\n",
       "      <td>-1.617802e-16</td>\n",
       "      <td>-1.513588e-17</td>\n",
       "      <td>1.122785e-16</td>\n",
       "    </tr>\n",
       "    <tr>\n",
       "      <th>std</th>\n",
       "      <td>1.000035e+00</td>\n",
       "      <td>1.000035e+00</td>\n",
       "      <td>1.000035e+00</td>\n",
       "      <td>1.000035e+00</td>\n",
       "      <td>1.000035e+00</td>\n",
       "      <td>1.000035e+00</td>\n",
       "      <td>1.000035e+00</td>\n",
       "      <td>1.000035e+00</td>\n",
       "    </tr>\n",
       "    <tr>\n",
       "      <th>min</th>\n",
       "      <td>-4.035499e+00</td>\n",
       "      <td>-3.181033e+00</td>\n",
       "      <td>-2.185946e+00</td>\n",
       "      <td>-5.744051e-01</td>\n",
       "      <td>-4.239001e-01</td>\n",
       "      <td>-9.733707e-01</td>\n",
       "      <td>-2.455649e+00</td>\n",
       "      <td>-1.003411e+00</td>\n",
       "    </tr>\n",
       "    <tr>\n",
       "      <th>25%</th>\n",
       "      <td>-3.896291e-01</td>\n",
       "      <td>-6.069473e-01</td>\n",
       "      <td>-4.256221e-01</td>\n",
       "      <td>-3.188054e-01</td>\n",
       "      <td>-3.664918e-01</td>\n",
       "      <td>-6.125457e-01</td>\n",
       "      <td>-5.641035e-01</td>\n",
       "      <td>-6.627590e-01</td>\n",
       "    </tr>\n",
       "    <tr>\n",
       "      <th>50%</th>\n",
       "      <td>1.587461e-01</td>\n",
       "      <td>5.846646e-02</td>\n",
       "      <td>-2.453172e-01</td>\n",
       "      <td>-2.578142e-01</td>\n",
       "      <td>-3.372294e-01</td>\n",
       "      <td>-4.067482e-01</td>\n",
       "      <td>3.170446e-02</td>\n",
       "      <td>-2.059136e-01</td>\n",
       "    </tr>\n",
       "    <tr>\n",
       "      <th>75%</th>\n",
       "      <td>6.267059e-01</td>\n",
       "      <td>6.501017e-01</td>\n",
       "      <td>-1.001238e-02</td>\n",
       "      <td>-1.419621e-01</td>\n",
       "      <td>-2.463724e-01</td>\n",
       "      <td>1.078934e-01</td>\n",
       "      <td>5.362759e-01</td>\n",
       "      <td>3.256217e-01</td>\n",
       "    </tr>\n",
       "    <tr>\n",
       "      <th>max</th>\n",
       "      <td>3.151882e+00</td>\n",
       "      <td>7.621116e+00</td>\n",
       "      <td>7.008906e+00</td>\n",
       "      <td>1.054430e+01</td>\n",
       "      <td>7.025568e+00</td>\n",
       "      <td>4.292181e+00</td>\n",
       "      <td>5.818557e+00</td>\n",
       "      <td>1.024613e+01</td>\n",
       "    </tr>\n",
       "  </tbody>\n",
       "</table>\n",
       "</div>"
      ],
      "text/plain": [
       "            IP Mean         IP Sd   IP Kurtosis   IP Skewness   DM-SNR Mean  \\\n",
       "count  1.431800e+04  1.431800e+04  1.431800e+04  1.431800e+04  1.431800e+04   \n",
       "mean   1.908113e-16 -6.550610e-16  1.042143e-17  3.870815e-17 -8.734147e-17   \n",
       "std    1.000035e+00  1.000035e+00  1.000035e+00  1.000035e+00  1.000035e+00   \n",
       "min   -4.035499e+00 -3.181033e+00 -2.185946e+00 -5.744051e-01 -4.239001e-01   \n",
       "25%   -3.896291e-01 -6.069473e-01 -4.256221e-01 -3.188054e-01 -3.664918e-01   \n",
       "50%    1.587461e-01  5.846646e-02 -2.453172e-01 -2.578142e-01 -3.372294e-01   \n",
       "75%    6.267059e-01  6.501017e-01 -1.001238e-02 -1.419621e-01 -2.463724e-01   \n",
       "max    3.151882e+00  7.621116e+00  7.008906e+00  1.054430e+01  7.025568e+00   \n",
       "\n",
       "          DM-SNR Sd DM-SNR Kurtosis DM-SNR Skewness  \n",
       "count  1.431800e+04    1.431800e+04    1.431800e+04  \n",
       "mean  -1.617802e-16   -1.513588e-17    1.122785e-16  \n",
       "std    1.000035e+00    1.000035e+00    1.000035e+00  \n",
       "min   -9.733707e-01   -2.455649e+00   -1.003411e+00  \n",
       "25%   -6.125457e-01   -5.641035e-01   -6.627590e-01  \n",
       "50%   -4.067482e-01    3.170446e-02   -2.059136e-01  \n",
       "75%    1.078934e-01    5.362759e-01    3.256217e-01  \n",
       "max    4.292181e+00    5.818557e+00    1.024613e+01  "
      ]
     },
     "execution_count": 26,
     "metadata": {},
     "output_type": "execute_result"
    }
   ],
   "source": [
    "X_train.describe()"
   ]
  },
  {
   "cell_type": "markdown",
   "metadata": {},
   "source": [
    "We see that the mean is 0 and the standard deviation is 1. We now have `X_train` and `X_train` datasets ready to be fed into the SVM classifier. "
   ]
  },
  {
   "cell_type": "markdown",
   "metadata": {},
   "source": [
    "## 8. Run SVM with default hyperparameters\n",
    "\n",
    "\n",
    "Default hyperparameter means `C=1.0`,  kernel=`rbf` and gamma=`auto` among other parameters."
   ]
  },
  {
   "cell_type": "code",
   "execution_count": 28,
   "metadata": {},
   "outputs": [
    {
     "name": "stdout",
     "output_type": "stream",
     "text": [
      "Model accuracy score with default hyperparameters: 0.9827\n"
     ]
    }
   ],
   "source": [
    "# import SVC classifier\n",
    "from sklearn.svm import SVC\n",
    "\n",
    "# import metrics to compute accuracy\n",
    "from sklearn.metrics import accuracy_score\n",
    "\n",
    "# instantiate classifier with default hyperparameters\n",
    "svc=SVC() \n",
    "\n",
    "# fit classifier to training set\n",
    "svc.fit(X_train,y_train)\n",
    "\n",
    "# make predictions on test set\n",
    "y_pred=svc.predict(X_test)\n",
    "\n",
    "# compute and print accuracy score\n",
    "print('Model accuracy score with default hyperparameters: {0:0.4f}'. format(accuracy_score(y_test, y_pred)))"
   ]
  },
  {
   "cell_type": "markdown",
   "metadata": {},
   "source": [
    "### Run SVM with rbf kernel and C=100.0\n",
    "\n",
    "\n",
    "We have seen that there are outliers in our dataset. So, we should increase the value of `C` as higher C means fewer outliers. \n",
    "So, I will run SVM with kernel=`rbf` and C=100.0."
   ]
  },
  {
   "cell_type": "code",
   "execution_count": 29,
   "metadata": {},
   "outputs": [
    {
     "name": "stdout",
     "output_type": "stream",
     "text": [
      "Model accuracy score with rbf kernel and C=100.0 : 0.9832\n"
     ]
    }
   ],
   "source": [
    "# instantiate classifier with rbf kernel and C=100\n",
    "svc=SVC(C=100.0) \n",
    "\n",
    "\n",
    "# fit classifier to training set\n",
    "svc.fit(X_train,y_train)\n",
    "\n",
    "\n",
    "# make predictions on test set\n",
    "y_pred=svc.predict(X_test)\n",
    "\n",
    "\n",
    "# compute and print accuracy score\n",
    "print('Model accuracy score with rbf kernel and C=100.0 : {0:0.4f}'. format(accuracy_score(y_test, y_pred)))"
   ]
  },
  {
   "cell_type": "markdown",
   "metadata": {},
   "source": [
    "We can see that we obtain a slightly higher accuracy with C=100.0 as higher C means less outliers.\n",
    "\n",
    "Now, I will further increase the value of C=1000.0 and check accuracy."
   ]
  },
  {
   "cell_type": "markdown",
   "metadata": {},
   "source": [
    "### Run SVM with rbf kernel and C=1000.0\n"
   ]
  },
  {
   "cell_type": "code",
   "execution_count": 30,
   "metadata": {},
   "outputs": [
    {
     "name": "stdout",
     "output_type": "stream",
     "text": [
      "Model accuracy score with rbf kernel and C=1000.0 : 0.9816\n"
     ]
    }
   ],
   "source": [
    "# instantiate classifier with rbf kernel and C=1000\n",
    "svc=SVC(C=1000.0) \n",
    "\n",
    "\n",
    "# fit classifier to training set\n",
    "svc.fit(X_train,y_train)\n",
    "\n",
    "\n",
    "# make predictions on test set\n",
    "y_pred=svc.predict(X_test)\n",
    "\n",
    "\n",
    "# compute and print accuracy score\n",
    "print('Model accuracy score with rbf kernel and C=1000.0 : {0:0.4f}'. format(accuracy_score(y_test, y_pred)))"
   ]
  },
  {
   "cell_type": "markdown",
   "metadata": {},
   "source": [
    "In this case, we can see that the accuracy had decreased with C=1000.0.  Why?\n",
    "As we saw in notebook 1, for a very large `C`, the margin is hard, and points cannot lie in it. The classfier doesn't generalize well to new, unseen examples."
   ]
  },
  {
   "cell_type": "markdown",
   "metadata": {},
   "source": [
    "## 9. Run SVM with linear kernel\n",
    "\n",
    "\n",
    "### Run SVM with linear kernel and C=1.0"
   ]
  },
  {
   "cell_type": "code",
   "execution_count": 37,
   "metadata": {},
   "outputs": [
    {
     "name": "stdout",
     "output_type": "stream",
     "text": [
      "Model accuracy score with linear kernel and C=1.0 : 0.9830\n"
     ]
    }
   ],
   "source": [
    "# instantiate classifier with linear kernel and C=1.0\n",
    "linear_svc=SVC(kernel='linear', C=1.0) \n",
    "\n",
    "\n",
    "# fit classifier to training set\n",
    "linear_svc.fit(X_train,y_train)\n",
    "\n",
    "\n",
    "# make predictions on test set\n",
    "y_pred_test=linear_svc.predict(X_test)\n",
    "\n",
    "\n",
    "# compute and print accuracy score\n",
    "print('Model accuracy score with linear kernel and C=1.0 : {0:0.4f}'. format(accuracy_score(y_test, y_pred_test)))\n"
   ]
  },
  {
   "cell_type": "markdown",
   "metadata": {},
   "source": [
    "### Run SVM with linear kernel and C=100.0"
   ]
  },
  {
   "cell_type": "code",
   "execution_count": 38,
   "metadata": {},
   "outputs": [
    {
     "name": "stdout",
     "output_type": "stream",
     "text": [
      "Model accuracy score with linear kernel and C=100.0 : 0.9832\n"
     ]
    }
   ],
   "source": [
    "# instantiate classifier with linear kernel and C=100.0\n",
    "linear_svc100=SVC(kernel='linear', C=100.0) \n",
    "\n",
    "\n",
    "# fit classifier to training set\n",
    "linear_svc100.fit(X_train, y_train)\n",
    "\n",
    "\n",
    "# make predictions on test set\n",
    "y_pred=linear_svc100.predict(X_test)\n",
    "\n",
    "\n",
    "# compute and print accuracy score\n",
    "print('Model accuracy score with linear kernel and C=100.0 : {0:0.4f}'. format(accuracy_score(y_test, y_pred)))"
   ]
  },
  {
   "cell_type": "markdown",
   "metadata": {},
   "source": [
    "### Run SVM with linear kernel and C=1000.0"
   ]
  },
  {
   "cell_type": "code",
   "execution_count": 39,
   "metadata": {},
   "outputs": [
    {
     "name": "stdout",
     "output_type": "stream",
     "text": [
      "Model accuracy score with linear kernel and C=1000.0 : 0.9832\n"
     ]
    }
   ],
   "source": [
    "# instantiate classifier with linear kernel and C=1000.0\n",
    "linear_svc1000=SVC(kernel='linear', C=1000.0) \n",
    "\n",
    "\n",
    "# fit classifier to training set\n",
    "linear_svc1000.fit(X_train, y_train)\n",
    "\n",
    "\n",
    "# make predictions on test set\n",
    "y_pred=linear_svc1000.predict(X_test)\n",
    "\n",
    "\n",
    "# compute and print accuracy score\n",
    "print('Model accuracy score with linear kernel and C=1000.0 : {0:0.4f}'. format(accuracy_score(y_test, y_pred)))"
   ]
  },
  {
   "cell_type": "markdown",
   "metadata": {},
   "source": [
    "We can see that we can obtain higher accuracy with C=100.0 and C=1000.0 as compared to C=1.0."
   ]
  },
  {
   "cell_type": "markdown",
   "metadata": {},
   "source": [
    "Here, **y_test** are the true class labels and **y_pred** are the predicted class labels in the test-set."
   ]
  },
  {
   "cell_type": "markdown",
   "metadata": {},
   "source": [
    "We can see that the predicted set and test set accuracy are very much comparable."
   ]
  },
  {
   "cell_type": "code",
   "execution_count": null,
   "metadata": {},
   "outputs": [],
   "source": []
  },
  {
   "cell_type": "markdown",
   "metadata": {},
   "source": [
    "\n"
   ]
  },
  {
   "cell_type": "markdown",
   "metadata": {},
   "source": [
    "## 10. Run SVM with polynomial kernel\n",
    "\n",
    "\n",
    "### Run SVM with polynomial kernel and C=1.0"
   ]
  },
  {
   "cell_type": "code",
   "execution_count": 31,
   "metadata": {},
   "outputs": [
    {
     "name": "stdout",
     "output_type": "stream",
     "text": [
      "Model accuracy score with polynomial kernel and C=1.0 : 0.9807\n"
     ]
    }
   ],
   "source": [
    "# instantiate classifier with polynomial kernel and C=1.0\n",
    "poly_svc=SVC(kernel='poly', C=1.0) \n",
    "\n",
    "\n",
    "# fit classifier to training set\n",
    "poly_svc.fit(X_train,y_train)\n",
    "\n",
    "\n",
    "# make predictions on test set\n",
    "y_pred=poly_svc.predict(X_test)\n",
    "\n",
    "\n",
    "# compute and print accuracy score\n",
    "print('Model accuracy score with polynomial kernel and C=1.0 : {0:0.4f}'. format(accuracy_score(y_test, y_pred)))\n"
   ]
  },
  {
   "cell_type": "markdown",
   "metadata": {},
   "source": [
    " ### Run SVM with polynomial kernel and C=100.0"
   ]
  },
  {
   "cell_type": "code",
   "execution_count": 32,
   "metadata": {},
   "outputs": [
    {
     "name": "stdout",
     "output_type": "stream",
     "text": [
      "Model accuracy score with polynomial kernel and C=100 : 0.9824\n"
     ]
    }
   ],
   "source": [
    "# instantiate classifier with polynomial kernel and C=100.0\n",
    "poly_svc100=SVC(kernel='poly', C=100.0) \n",
    "\n",
    "\n",
    "# fit classifier to training set\n",
    "poly_svc100.fit(X_train, y_train)\n",
    "\n",
    "\n",
    "# make predictions on test set\n",
    "y_pred=poly_svc100.predict(X_test)\n",
    "\n",
    "\n",
    "# compute and print accuracy score\n",
    "print('Model accuracy score with polynomial kernel and C=100 : {0:0.4f}'. format(accuracy_score(y_test, y_pred)))"
   ]
  },
  {
   "cell_type": "markdown",
   "metadata": {},
   "source": [
    "## 15. Run SVM with sigmoid kernel\n",
    "\n",
    "\n",
    "### Run SVM with sigmoid kernel and C=1.0"
   ]
  },
  {
   "cell_type": "code",
   "execution_count": 33,
   "metadata": {},
   "outputs": [
    {
     "name": "stdout",
     "output_type": "stream",
     "text": [
      "Model accuracy score with sigmoid kernel and C=1.0 : 0.8858\n"
     ]
    }
   ],
   "source": [
    "# instantiate classifier with sigmoid kernel and C=1.0\n",
    "sigmoid_svc=SVC(kernel='sigmoid', C=1.0) \n",
    "\n",
    "\n",
    "# fit classifier to training set\n",
    "sigmoid_svc.fit(X_train,y_train)\n",
    "\n",
    "\n",
    "# make predictions on test set\n",
    "y_pred=sigmoid_svc.predict(X_test)\n",
    "\n",
    "\n",
    "# compute and print accuracy score\n",
    "print('Model accuracy score with sigmoid kernel and C=1.0 : {0:0.4f}'. format(accuracy_score(y_test, y_pred)))\n"
   ]
  },
  {
   "cell_type": "markdown",
   "metadata": {},
   "source": [
    "### Run SVM with sigmoid kernel and C=100.0"
   ]
  },
  {
   "cell_type": "code",
   "execution_count": 34,
   "metadata": {},
   "outputs": [
    {
     "name": "stdout",
     "output_type": "stream",
     "text": [
      "Model accuracy score with sigmoid kernel and C=100.0 : 0.8855\n"
     ]
    }
   ],
   "source": [
    "# instantiate classifier with sigmoid kernel and C=100.0\n",
    "sigmoid_svc100=SVC(kernel='sigmoid', C=100.0) \n",
    "\n",
    "\n",
    "# fit classifier to training set\n",
    "sigmoid_svc100.fit(X_train,y_train)\n",
    "\n",
    "\n",
    "# make predictions on test set\n",
    "y_pred=sigmoid_svc100.predict(X_test)\n",
    "\n",
    "\n",
    "# compute and print accuracy score\n",
    "print('Model accuracy score with sigmoid kernel and C=100.0 : {0:0.4f}'. format(accuracy_score(y_test, y_pred)))\n"
   ]
  },
  {
   "cell_type": "markdown",
   "metadata": {},
   "source": [
    "We can see that sigmoid kernel is performing poorly and accuracies with small and large 'C' are similar. This could be a sign a overfitting but it is very likely that the dataset is linearly separable or has a decision boundary that can be easily found by the SVM Sigmoid model."
   ]
  },
  {
   "cell_type": "markdown",
   "metadata": {},
   "source": [
    "### Comments\n",
    "\n",
    "\n",
    "We get maximum accuracy with `rbf` and `linear` kernel with C=100.0. and the accuracy is 0.9832. Based on the above analysis we can conclude that our classification model accuracy is very good. Is our model doing a good job in terms of predicting the class labels?\n",
    "\n",
    "\n",
    "Here, we have an imbalanced dataset. The problem is that accuracy is an inadequate measure for quantifying predictive performance in the imbalanced dataset problem.\n",
    "\n",
    "Accuracy computes the proportion of correct predictions overall. But with imbalance, we care more about the minority class performance.\n",
    "- High overall accuracy can be achieved by predicting everything as the majority class.\n",
    "- Accuracy doesn't differentiate between the types of errors made (false positives vs false negatives). These errors have different costs in skewed datasets.\n",
    "\n",
    "So, we should explore alternative metrics that provide better guidance in selecting models. In particular, we would like to know the underlying distribution of values and the type of errors our classifer is making. \n",
    "\n",
    "- Metrics like precision, recall, F1-score, and ROC AUC are better suited for quantifying performance on imbalanced data.\n"
   ]
  },
  {
   "cell_type": "markdown",
   "metadata": {},
   "source": [
    "\n"
   ]
  },
  {
   "cell_type": "markdown",
   "metadata": {},
   "source": [
    "## Please proceed to Notebook 3"
   ]
  },
  {
   "cell_type": "code",
   "execution_count": null,
   "metadata": {},
   "outputs": [],
   "source": []
  }
 ],
 "metadata": {
  "kernelspec": {
   "display_name": "Python 3 (ipykernel)",
   "language": "python",
   "name": "python3"
  },
  "language_info": {
   "codemirror_mode": {
    "name": "ipython",
    "version": 3
   },
   "file_extension": ".py",
   "mimetype": "text/x-python",
   "name": "python",
   "nbconvert_exporter": "python",
   "pygments_lexer": "ipython3",
   "version": "3.10.9"
  }
 },
 "nbformat": 4,
 "nbformat_minor": 4
}
